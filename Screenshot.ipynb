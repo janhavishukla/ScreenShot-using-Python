{
 "cells": [
  {
   "cell_type": "code",
   "execution_count": 1,
   "metadata": {},
   "outputs": [
    {
     "name": "stdout",
     "output_type": "stream",
     "text": [
      "Requirement already satisfied: pyautogui in c:\\users\\lenevo\\appdata\\local\\programs\\python\\python38\\lib\\site-packages (0.9.50)\n",
      "Requirement already satisfied: pygetwindow>=0.0.5 in c:\\users\\lenevo\\appdata\\local\\programs\\python\\python38\\lib\\site-packages (from pyautogui) (0.0.8)\n",
      "Requirement already satisfied: PyTweening>=1.0.1 in c:\\users\\lenevo\\appdata\\local\\programs\\python\\python38\\lib\\site-packages (from pyautogui) (1.0.3)\n",
      "Requirement already satisfied: pyscreeze>=0.1.21 in c:\\users\\lenevo\\appdata\\local\\programs\\python\\python38\\lib\\site-packages (from pyautogui) (0.1.26)\n",
      "Requirement already satisfied: mouseinfo in c:\\users\\lenevo\\appdata\\local\\programs\\python\\python38\\lib\\site-packages (from pyautogui) (0.1.3)\n",
      "Requirement already satisfied: pymsgbox in c:\\users\\lenevo\\appdata\\local\\programs\\python\\python38\\lib\\site-packages (from pyautogui) (1.0.8)\n",
      "Requirement already satisfied: pyrect in c:\\users\\lenevo\\appdata\\local\\programs\\python\\python38\\lib\\site-packages (from pygetwindow>=0.0.5->pyautogui) (0.1.4)\n",
      "Requirement already satisfied: Pillow>=6.2.1; python_version == \"3.8\" in c:\\users\\lenevo\\appdata\\local\\programs\\python\\python38\\lib\\site-packages (from pyscreeze>=0.1.21->pyautogui) (7.1.2)\n",
      "Requirement already satisfied: pyperclip in c:\\users\\lenevo\\appdata\\local\\programs\\python\\python38\\lib\\site-packages (from mouseinfo->pyautogui) (1.8.0)\n",
      "Note: you may need to restart the kernel to use updated packages.\n"
     ]
    },
    {
     "name": "stderr",
     "output_type": "stream",
     "text": [
      "WARNING: You are using pip version 19.2.3, however version 20.2.3 is available.\n",
      "You should consider upgrading via the 'python -m pip install --upgrade pip' command.\n"
     ]
    }
   ],
   "source": [
    "pip install pyautogui"
   ]
  },
  {
   "cell_type": "code",
   "execution_count": 2,
   "metadata": {},
   "outputs": [],
   "source": [
    "import pyautogui as p"
   ]
  },
  {
   "cell_type": "code",
   "execution_count": 3,
   "metadata": {},
   "outputs": [],
   "source": [
    "ss= p.screenshot()"
   ]
  },
  {
   "cell_type": "code",
   "execution_count": 4,
   "metadata": {},
   "outputs": [],
   "source": [
    "ss.save(\"./ss.png\")"
   ]
  },
  {
   "cell_type": "code",
   "execution_count": null,
   "metadata": {},
   "outputs": [],
   "source": []
  }
 ],
 "metadata": {
  "kernelspec": {
   "display_name": "Python 3",
   "language": "python",
   "name": "python3"
  },
  "language_info": {
   "codemirror_mode": {
    "name": "ipython",
    "version": 3
   },
   "file_extension": ".py",
   "mimetype": "text/x-python",
   "name": "python",
   "nbconvert_exporter": "python",
   "pygments_lexer": "ipython3",
   "version": "3.8.3"
  }
 },
 "nbformat": 4,
 "nbformat_minor": 4
}
